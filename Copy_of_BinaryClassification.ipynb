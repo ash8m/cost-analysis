{
  "cells": [
    {
      "cell_type": "markdown",
      "metadata": {
        "id": "view-in-github",
        "colab_type": "text"
      },
      "source": [
        "<a href=\"https://colab.research.google.com/github/ash8m/cost-analysis/blob/main/Copy_of_BinaryClassification.ipynb\" target=\"_parent\"><img src=\"https://colab.research.google.com/assets/colab-badge.svg\" alt=\"Open In Colab\"/></a>"
      ]
    },
    {
      "cell_type": "code",
      "source": [
        "# Library Imports\n",
        "import numpy as np\n",
        "import pandas as pd\n",
        "import matplotlib.pyplot as plt\n",
        "import tensorflow as tf\n",
        "from tensorflow.keras import layers\n",
        "from tensorflow.keras.applications import EfficientNetB0\n",
        "from tensorflow.keras.preprocessing.image import ImageDataGenerator\n",
        "from tensorflow.keras.utils import get_file, to_categorical"
      ],
      "metadata": {
        "id": "yKrq7x5zUbfS"
      },
      "execution_count": 1,
      "outputs": []
    },
    {
      "cell_type": "code",
      "source": [
        "DATA_NAME = \"PneumoniaMNIST\"\n",
        "!wget https://raw.githubusercontent.com/MedMNIST/MedMNIST/main/medmnist/info.py\n",
        "from info import INFO\n",
        "data = INFO[DATA_NAME.lower()]"
      ],
      "metadata": {
        "colab": {
          "base_uri": "https://localhost:8080/"
        },
        "id": "wrGOuhbuGRwY",
        "outputId": "e658147c-696b-48f8-9cf6-3f0d28bf018f"
      },
      "execution_count": 2,
      "outputs": [
        {
          "output_type": "stream",
          "name": "stdout",
          "text": [
            "--2024-03-13 20:56:57--  https://raw.githubusercontent.com/MedMNIST/MedMNIST/main/medmnist/info.py\n",
            "Resolving raw.githubusercontent.com (raw.githubusercontent.com)... 185.199.111.133, 185.199.109.133, 185.199.108.133, ...\n",
            "Connecting to raw.githubusercontent.com (raw.githubusercontent.com)|185.199.111.133|:443... connected.\n",
            "HTTP request sent, awaiting response... 200 OK\n",
            "Length: 27766 (27K) [text/plain]\n",
            "Saving to: ‘info.py’\n",
            "\n",
            "\rinfo.py               0%[                    ]       0  --.-KB/s               \rinfo.py             100%[===================>]  27.12K  --.-KB/s    in 0.001s  \n",
            "\n",
            "2024-03-13 20:56:57 (21.6 MB/s) - ‘info.py’ saved [27766/27766]\n",
            "\n"
          ]
        }
      ]
    },
    {
      "cell_type": "code",
      "source": [
        "from google.colab import drive\n",
        "drive.mount('/content/drive')\n",
        "\n",
        "dataset = np.load('/content/drive/MyDrive/'+DATA_NAME.lower()+'.npz')\n"
      ],
      "metadata": {
        "colab": {
          "base_uri": "https://localhost:8080/"
        },
        "id": "m4zreDMXXfx5",
        "outputId": "e66e4fb5-d259-4595-c954-1b149e07607a"
      },
      "execution_count": 3,
      "outputs": [
        {
          "output_type": "stream",
          "name": "stdout",
          "text": [
            "Mounted at /content/drive\n"
          ]
        }
      ]
    },
    {
      "cell_type": "code",
      "source": [
        "# Gets the training images and labels from the NumPy object.\n",
        "train_x = dataset[\"train_images\"]\n",
        "train_x = np.expand_dims(train_x, axis=-1)  # Add an extra dimension for the color channel\n",
        "train_x = tf.image.resize(train_x, (32, 32))  # Resize the images to 32x32\n",
        "train_x = tf.repeat(train_x, 3, axis=-1)  # Convert grayscale images to RGB\n",
        "train_x = train_x / 255.0  # Normalize the images\n",
        "train_y = dataset[\"train_labels\"]\n",
        "\n",
        "# Gets the validation images and labels from the NumPy object.\n",
        "val_x = dataset[\"val_images\"]\n",
        "val_x = np.expand_dims(val_x, axis=-1)\n",
        "val_x = tf.image.resize(val_x, (32, 32))\n",
        "val_x = tf.repeat(val_x, 3, axis=-1)\n",
        "val_x = val_x / 255.0\n",
        "val_y = dataset[\"val_labels\"]\n",
        "\n",
        "# Gets the testing images and labels from the NumPy object.\n",
        "test_x = dataset[\"test_images\"]\n",
        "test_x = np.expand_dims(test_x, axis=-1)\n",
        "test_x = tf.image.resize(test_x, (32, 32))\n",
        "test_x = tf.repeat(test_x, 3, axis=-1)\n",
        "test_x = test_x / 255.0\n",
        "test_y = dataset[\"test_labels\"]"
      ],
      "metadata": {
        "id": "bs4nBMLwb2cI"
      },
      "execution_count": 4,
      "outputs": []
    },
    {
      "cell_type": "code",
      "source": [
        "# Declares a list of labels.\n",
        "labels = list(data[\"label\"].values()) + [\"total\"]\n",
        "print(labels)\n",
        "# Gets the counts for each label in each of our datasets.\n",
        "_, train_counts = np.unique(train_y, return_counts=True)\n",
        "_, val_counts = np.unique(val_y, return_counts=True)\n",
        "_, test_counts = np.unique(test_y, return_counts=True)\n",
        "\n",
        "# Prints the counts for each label from each dataset.\n",
        "print(pd.DataFrame(list(zip(np.append(train_counts, [sum(train_counts)]),\n",
        "                            np.append(val_counts, [sum(val_counts)]),\n",
        "                            np.append(test_counts, [sum(test_counts)]))),\n",
        "                   index=labels, columns=[\"Train\", \"Val\", \"Test\"]))"
      ],
      "metadata": {
        "colab": {
          "base_uri": "https://localhost:8080/"
        },
        "id": "LZLPUoA5E7j8",
        "outputId": "3ba42ca4-83ec-47cf-e90f-48883f463ddd"
      },
      "execution_count": 5,
      "outputs": [
        {
          "output_type": "stream",
          "name": "stdout",
          "text": [
            "['normal', 'pneumonia', 'total']\n",
            "           Train  Val  Test\n",
            "normal      1214  135   234\n",
            "pneumonia   3494  389   390\n",
            "total       4708  524   624\n"
          ]
        }
      ]
    },
    {
      "cell_type": "code",
      "source": [
        "# Load the pre-trained model\n",
        "base_model = EfficientNetB0(weights='imagenet', include_top=False, input_shape=(32, 32, 3))\n",
        "print(len(base_model.layers))\n",
        "\n",
        "# Freeze the base model\n",
        "base_model.trainable = False\n",
        "\n",
        "# Create new model on top\n",
        "inputs = tf.keras.Input(shape=(32, 32, 3))\n",
        "x = base_model(inputs, training=False)\n",
        "x = layers.GlobalAveragePooling2D()(x)\n",
        "x = layers.Dense(1024, activation='relu')(x)\n",
        "x = layers.Dense(512, activation='relu')(x)\n",
        "logits = layers.Dense(1)(x)\n",
        "# outputs = layers.Dense(1, activation='sigmoid')(x)\n",
        "model = tf.keras.Model(inputs, logits)\n",
        "\n",
        "#model.compile(optimizer=tf.keras.optimizers.Adam(),\n",
        "#              loss=tf.keras.losses.BinaryCrossentropy(),\n",
        "#              metrics=[tf.keras.metrics.BinaryAccuracy()])\n",
        "model.compile(optimizer=tf.keras.optimizers.Adam(),\n",
        "              loss=tf.keras.losses.BinaryCrossentropy(from_logits=True),\n",
        "              metrics=[tf.keras.metrics.BinaryAccuracy()])\n",
        "\n",
        "model.summary()\n"
      ],
      "metadata": {
        "colab": {
          "base_uri": "https://localhost:8080/"
        },
        "id": "cG-PuRmYBJ3q",
        "outputId": "80056f69-10da-424c-85a0-de3e284064d9"
      },
      "execution_count": 6,
      "outputs": [
        {
          "output_type": "stream",
          "name": "stdout",
          "text": [
            "Downloading data from https://storage.googleapis.com/keras-applications/efficientnetb0_notop.h5\n",
            "16705208/16705208 [==============================] - 0s 0us/step\n",
            "238\n",
            "Model: \"model\"\n",
            "_________________________________________________________________\n",
            " Layer (type)                Output Shape              Param #   \n",
            "=================================================================\n",
            " input_2 (InputLayer)        [(None, 32, 32, 3)]       0         \n",
            "                                                                 \n",
            " efficientnetb0 (Functional  (None, 1, 1, 1280)        4049571   \n",
            " )                                                               \n",
            "                                                                 \n",
            " global_average_pooling2d (  (None, 1280)              0         \n",
            " GlobalAveragePooling2D)                                         \n",
            "                                                                 \n",
            " dense (Dense)               (None, 1024)              1311744   \n",
            "                                                                 \n",
            " dense_1 (Dense)             (None, 512)               524800    \n",
            "                                                                 \n",
            " dense_2 (Dense)             (None, 1)                 513       \n",
            "                                                                 \n",
            "=================================================================\n",
            "Total params: 5886628 (22.46 MB)\n",
            "Trainable params: 1837057 (7.01 MB)\n",
            "Non-trainable params: 4049571 (15.45 MB)\n",
            "_________________________________________________________________\n"
          ]
        }
      ]
    },
    {
      "cell_type": "code",
      "source": [
        "# Train the model\n",
        "history = model.fit(train_x, train_y, epochs=5, validation_data=(val_x, val_y))\n"
      ],
      "metadata": {
        "colab": {
          "base_uri": "https://localhost:8080/"
        },
        "id": "Cbe-PCGxlVvp",
        "outputId": "2c3dc359-09d1-45e1-d52b-48d7019299c3"
      },
      "execution_count": 39,
      "outputs": [
        {
          "output_type": "stream",
          "name": "stdout",
          "text": [
            "Epoch 1/5\n",
            "148/148 [==============================] - 24s 105ms/step - loss: 0.5870 - binary_accuracy: 0.7167 - val_loss: 0.5899 - val_binary_accuracy: 0.7424\n",
            "Epoch 2/5\n",
            "148/148 [==============================] - 13s 89ms/step - loss: 0.5778 - binary_accuracy: 0.7421 - val_loss: 0.5708 - val_binary_accuracy: 0.7424\n",
            "Epoch 3/5\n",
            "148/148 [==============================] - 13s 90ms/step - loss: 0.5733 - binary_accuracy: 0.7421 - val_loss: 0.5741 - val_binary_accuracy: 0.7424\n",
            "Epoch 4/5\n",
            "148/148 [==============================] - 14s 92ms/step - loss: 0.5743 - binary_accuracy: 0.7421 - val_loss: 0.5732 - val_binary_accuracy: 0.7424\n",
            "Epoch 5/5\n",
            "148/148 [==============================] - 14s 93ms/step - loss: 0.5749 - binary_accuracy: 0.7421 - val_loss: 0.5710 - val_binary_accuracy: 0.7424\n"
          ]
        }
      ]
    },
    {
      "cell_type": "code",
      "source": [
        "# Unfreeze the whole base model for fine-tuning\n",
        "base_model.trainable = True\n",
        "# unfreeze the last 15 layers\n",
        "#num_layers = len(base_model.layers)\n",
        "#for layer in base_model.layers[:num_layers - 15]:\n",
        "#    layer.trainable = False\n",
        "#for layer in base_model.layers[num_layers - 15:]:\n",
        "#    layer.trainable = True\n",
        "\n",
        "\n",
        "model.compile(optimizer=tf.keras.optimizers.Adam(1e-5),  # Low learning rate\n",
        "              loss=tf.keras.losses.BinaryCrossentropy(from_logits=True),\n",
        "              metrics=[tf.keras.metrics.BinaryAccuracy()])\n",
        "\n",
        "# Fine-tune the model\n",
        "fine_tune_epochs = 15\n",
        "total_epochs = 5+15\n",
        "\n",
        "\n",
        "model.summary()"
      ],
      "metadata": {
        "colab": {
          "base_uri": "https://localhost:8080/"
        },
        "id": "OdLOwo_MBOzN",
        "outputId": "f2fa67b7-179a-4ea1-e640-456ddc7b4e32"
      },
      "execution_count": 7,
      "outputs": [
        {
          "output_type": "stream",
          "name": "stdout",
          "text": [
            "Model: \"model\"\n",
            "_________________________________________________________________\n",
            " Layer (type)                Output Shape              Param #   \n",
            "=================================================================\n",
            " input_2 (InputLayer)        [(None, 32, 32, 3)]       0         \n",
            "                                                                 \n",
            " efficientnetb0 (Functional  (None, 1, 1, 1280)        4049571   \n",
            " )                                                               \n",
            "                                                                 \n",
            " global_average_pooling2d (  (None, 1280)              0         \n",
            " GlobalAveragePooling2D)                                         \n",
            "                                                                 \n",
            " dense (Dense)               (None, 1024)              1311744   \n",
            "                                                                 \n",
            " dense_1 (Dense)             (None, 512)               524800    \n",
            "                                                                 \n",
            " dense_2 (Dense)             (None, 1)                 513       \n",
            "                                                                 \n",
            "=================================================================\n",
            "Total params: 5886628 (22.46 MB)\n",
            "Trainable params: 5844605 (22.30 MB)\n",
            "Non-trainable params: 42023 (164.16 KB)\n",
            "_________________________________________________________________\n"
          ]
        }
      ]
    },
    {
      "cell_type": "code",
      "source": [
        "history_fine = model.fit(train_x, train_y,\n",
        "                         epochs=total_epochs,\n",
        "                         initial_epoch=history.epoch[-1],\n",
        "                         validation_data=(val_x, val_y))"
      ],
      "metadata": {
        "colab": {
          "base_uri": "https://localhost:8080/"
        },
        "id": "egOcvoPplO42",
        "outputId": "339d04f5-a33f-46e3-a03b-6a4fbe510b56"
      },
      "execution_count": 41,
      "outputs": [
        {
          "output_type": "stream",
          "name": "stdout",
          "text": [
            "Epoch 5/20\n",
            "148/148 [==============================] - 75s 332ms/step - loss: 0.5717 - binary_accuracy: 0.7421 - val_loss: 0.5708 - val_binary_accuracy: 0.7424\n",
            "Epoch 6/20\n",
            "148/148 [==============================] - 46s 311ms/step - loss: 0.5695 - binary_accuracy: 0.7421 - val_loss: 0.5666 - val_binary_accuracy: 0.7424\n",
            "Epoch 7/20\n",
            "148/148 [==============================] - 47s 319ms/step - loss: 0.5538 - binary_accuracy: 0.7428 - val_loss: 0.6392 - val_binary_accuracy: 0.7424\n",
            "Epoch 8/20\n",
            "148/148 [==============================] - 48s 324ms/step - loss: 0.4041 - binary_accuracy: 0.8180 - val_loss: 0.3239 - val_binary_accuracy: 0.8263\n",
            "Epoch 9/20\n",
            "148/148 [==============================] - 46s 310ms/step - loss: 0.3422 - binary_accuracy: 0.8407 - val_loss: 0.3896 - val_binary_accuracy: 0.8454\n",
            "Epoch 10/20\n",
            "148/148 [==============================] - 46s 311ms/step - loss: 0.3275 - binary_accuracy: 0.8522 - val_loss: 0.2732 - val_binary_accuracy: 0.8817\n",
            "Epoch 11/20\n",
            "148/148 [==============================] - 46s 312ms/step - loss: 0.3154 - binary_accuracy: 0.8568 - val_loss: 0.3199 - val_binary_accuracy: 0.8740\n",
            "Epoch 12/20\n",
            "148/148 [==============================] - 59s 395ms/step - loss: 0.3045 - binary_accuracy: 0.8634 - val_loss: 0.2884 - val_binary_accuracy: 0.8588\n",
            "Epoch 13/20\n",
            "148/148 [==============================] - 49s 333ms/step - loss: 0.2812 - binary_accuracy: 0.8723 - val_loss: 0.2453 - val_binary_accuracy: 0.8874\n",
            "Epoch 14/20\n",
            "148/148 [==============================] - 47s 316ms/step - loss: 0.2700 - binary_accuracy: 0.8766 - val_loss: 0.2441 - val_binary_accuracy: 0.8950\n",
            "Epoch 15/20\n",
            "148/148 [==============================] - 53s 361ms/step - loss: 0.2735 - binary_accuracy: 0.8781 - val_loss: 0.3093 - val_binary_accuracy: 0.8836\n",
            "Epoch 16/20\n",
            "148/148 [==============================] - 57s 385ms/step - loss: 0.2611 - binary_accuracy: 0.8834 - val_loss: 0.3156 - val_binary_accuracy: 0.8836\n",
            "Epoch 17/20\n",
            "148/148 [==============================] - 52s 354ms/step - loss: 0.2678 - binary_accuracy: 0.8823 - val_loss: 0.2372 - val_binary_accuracy: 0.8969\n",
            "Epoch 18/20\n",
            "148/148 [==============================] - 53s 356ms/step - loss: 0.2548 - binary_accuracy: 0.8887 - val_loss: 0.2994 - val_binary_accuracy: 0.8893\n",
            "Epoch 19/20\n",
            "148/148 [==============================] - 62s 419ms/step - loss: 0.2517 - binary_accuracy: 0.8895 - val_loss: 0.3725 - val_binary_accuracy: 0.8721\n",
            "Epoch 20/20\n",
            "148/148 [==============================] - 51s 346ms/step - loss: 0.2637 - binary_accuracy: 0.8842 - val_loss: 0.2195 - val_binary_accuracy: 0.9065\n"
          ]
        }
      ]
    },
    {
      "cell_type": "code",
      "source": [
        "model.save_weights(\"/content/drive/MyDrive/fine_tuned_weights.h5\", save_format=\"h5\")\n",
        "model.save(\"/content/drive/MyDrive/fine_tuned_model.keras\")"
      ],
      "metadata": {
        "colab": {
          "base_uri": "https://localhost:8080/",
          "height": 164
        },
        "id": "_vZ8w3469JxL",
        "outputId": "3c47ab0e-938e-4baa-a1e0-13af1b4c92ec"
      },
      "execution_count": 4,
      "outputs": [
        {
          "output_type": "error",
          "ename": "NameError",
          "evalue": "name 'model' is not defined",
          "traceback": [
            "\u001b[0;31m---------------------------------------------------------------------------\u001b[0m",
            "\u001b[0;31mNameError\u001b[0m                                 Traceback (most recent call last)",
            "\u001b[0;32m<ipython-input-4-e0208c205531>\u001b[0m in \u001b[0;36m<cell line: 1>\u001b[0;34m()\u001b[0m\n\u001b[0;32m----> 1\u001b[0;31m \u001b[0mmodel\u001b[0m\u001b[0;34m.\u001b[0m\u001b[0msave_weights\u001b[0m\u001b[0;34m(\u001b[0m\u001b[0;34m\"/content/drive/MyDrive/fine_tuned_weights.h5\"\u001b[0m\u001b[0;34m,\u001b[0m \u001b[0msave_format\u001b[0m\u001b[0;34m=\u001b[0m\u001b[0;34m\"h5\"\u001b[0m\u001b[0;34m)\u001b[0m\u001b[0;34m\u001b[0m\u001b[0;34m\u001b[0m\u001b[0m\n\u001b[0m\u001b[1;32m      2\u001b[0m \u001b[0mmodel\u001b[0m\u001b[0;34m.\u001b[0m\u001b[0msave\u001b[0m\u001b[0;34m(\u001b[0m\u001b[0;34m\"/content/drive/MyDrive/fine_tuned_model.keras\"\u001b[0m\u001b[0;34m)\u001b[0m\u001b[0;34m\u001b[0m\u001b[0;34m\u001b[0m\u001b[0m\n",
            "\u001b[0;31mNameError\u001b[0m: name 'model' is not defined"
          ]
        }
      ]
    },
    {
      "cell_type": "code",
      "source": [
        "model.evaluate(test_x, test_y)"
      ],
      "metadata": {
        "colab": {
          "base_uri": "https://localhost:8080/"
        },
        "id": "mVzMFx2j9aiB",
        "outputId": "f8a7ecab-614b-484a-a1ea-c25313abd0f7"
      },
      "execution_count": 24,
      "outputs": [
        {
          "output_type": "stream",
          "name": "stdout",
          "text": [
            "20/20 [==============================] - 3s 55ms/step - loss: 0.3314 - binary_accuracy: 0.8814\n"
          ]
        },
        {
          "output_type": "execute_result",
          "data": {
            "text/plain": [
              "[0.33139267563819885, 0.8814102411270142]"
            ]
          },
          "metadata": {},
          "execution_count": 24
        }
      ]
    },
    {
      "cell_type": "code",
      "source": [
        "#model = tf.keras.models.load_model(\"/content/drive/MyDrive/fine_tuned_model.keras\")\n",
        "model.load_weights(\"/content/drive/MyDrive/fine_tuned_weights.h5\")"
      ],
      "metadata": {
        "id": "4bpujoJ2D8et"
      },
      "execution_count": 8,
      "outputs": []
    },
    {
      "cell_type": "code",
      "source": [
        "model.trainable = 'false'\n",
        "prob_model = tf.keras.models.Sequential([model, layers.Dense(1, activation='sigmoid')])\n",
        "\n",
        "#prob_model.compile(optimizer=tf.keras.optimizers.Adam(1e-5),  # Low learning rate\n",
        "#              loss=tf.keras.losses.BinaryCrossentropy(),\n",
        "#              metrics=[tf.keras.metrics.BinaryAccuracy()])\n",
        "\n",
        "#prob_model.summary()\n",
        "#history = prob_model.fit(train_x, train_y, epochs=5, validation_data=(val_x, val_y))\n"
      ],
      "metadata": {
        "id": "9KawzPiJJj9C"
      },
      "execution_count": 21,
      "outputs": []
    },
    {
      "cell_type": "code",
      "source": [
        "model.summary()\n",
        "prob_model.summary()\n",
        "print(prob_model.layers[-1].name)\n",
        "print(prob_model.layers[-1].output_shape)\n",
        "print(prob_model.layers[-1].activation.__name__)\n",
        "print(prob_model.layers[-1])\n",
        "\n",
        "weights, biases = prob_model.layers[-1].get_weights()\n",
        "# Print the shapes of the weights and biases\n",
        "print(\"Weights :\", weights)\n",
        "if biases is not None:\n",
        "  print(\"Biases :\", biases)\n",
        "\n",
        "predictions_none = prob_model.predict(test_x)\n",
        "print(test_y[0:5].flatten())\n",
        "print(predictions_none[0:5].flatten())\n",
        "\n",
        "# Create a DataFrame with the original labels and the predicted probabilities\n",
        "df = pd.DataFrame({\n",
        "    'label': test_y.flatten(),\n",
        "    'prediction': predictions_none.flatten()  # Flatten to make it 1D\n",
        "})\n",
        "\n",
        "# Specify the path to your Google Drive and the filename\n",
        "path = \"/content/drive/MyDrive/predictions_none.csv\"\n",
        "\n",
        "# Save the DataFrame to a CSV file in Google Drive\n",
        "df.to_csv(path, index=False)"
      ],
      "metadata": {
        "colab": {
          "base_uri": "https://localhost:8080/"
        },
        "id": "xYizw3yfxzXr",
        "outputId": "24a9b0e8-a81e-46b5-9acc-acda6abe3f4e"
      },
      "execution_count": 22,
      "outputs": [
        {
          "output_type": "stream",
          "name": "stdout",
          "text": [
            "Model: \"model\"\n",
            "_________________________________________________________________\n",
            " Layer (type)                Output Shape              Param #   \n",
            "=================================================================\n",
            " input_2 (InputLayer)        [(None, 32, 32, 3)]       0         \n",
            "                                                                 \n",
            " efficientnetb0 (Functional  (None, 1, 1, 1280)        4049571   \n",
            " )                                                               \n",
            "                                                                 \n",
            " global_average_pooling2d (  (None, 1280)              0         \n",
            " GlobalAveragePooling2D)                                         \n",
            "                                                                 \n",
            " dense_3 (Dense)             (None, 1024)              1311744   \n",
            "                                                                 \n",
            " dense_4 (Dense)             (None, 512)               524800    \n",
            "                                                                 \n",
            " dense_5 (Dense)             (None, 1)                 513       \n",
            "                                                                 \n",
            "=================================================================\n",
            "Total params: 5886628 (22.46 MB)\n",
            "Trainable params: 5844605 (22.30 MB)\n",
            "Non-trainable params: 42023 (164.16 KB)\n",
            "_________________________________________________________________\n",
            "Model: \"sequential_3\"\n",
            "_________________________________________________________________\n",
            " Layer (type)                Output Shape              Param #   \n",
            "=================================================================\n",
            " model (Functional)          (None, 1)                 5886628   \n",
            "                                                                 \n",
            " dense_6 (Dense)             (None, 1)                 2         \n",
            "                                                                 \n",
            "=================================================================\n",
            "Total params: 5886630 (22.46 MB)\n",
            "Trainable params: 5844607 (22.30 MB)\n",
            "Non-trainable params: 42023 (164.16 KB)\n",
            "_________________________________________________________________\n",
            "dense_6\n",
            "(None, 1)\n",
            "sigmoid\n",
            "<keras.src.layers.core.dense.Dense object at 0x7f02bfb21c60>\n",
            "Weights : [[-1.6576321]]\n",
            "Biases : [0.]\n",
            "20/20 [==============================] - 3s 54ms/step\n",
            "[1 0 1 0 1]\n",
            "[2.9849497e-04 5.1482336e-04 6.8835229e-01 9.8845005e-01 2.4431341e-04]\n"
          ]
        }
      ]
    },
    {
      "cell_type": "code",
      "source": [
        "from sklearn.calibration import calibration_curve\n",
        "\n",
        "prob_true_2, prob_pred_2 = calibration_curve(test_y.flatten(), predictions_none.flatten(), n_bins=10)\n",
        "plt.plot(prob_pred_2, prob_true_2, marker='.', label=\"scaled\")\n",
        "plt.plot([0, 1], [0, 1], linestyle='--', label=\"ideal\")\n",
        "plt.xlabel('Predicted Probability')\n",
        "plt.ylabel('True Probability')\n",
        "plt.title('Reliability Diagram with no temperature scaling')\n",
        "plt.legend()\n",
        "plt.show()"
      ],
      "metadata": {
        "colab": {
          "base_uri": "https://localhost:8080/",
          "height": 472
        },
        "id": "Jwd6Y5u63F2x",
        "outputId": "02925f5d-f8b2-4edb-d459-9cdab78e49ae"
      },
      "execution_count": 23,
      "outputs": [
        {
          "output_type": "display_data",
          "data": {
            "text/plain": [
              "<Figure size 640x480 with 1 Axes>"
            ],
            "image/png": "[encoded data removed]"
          },
          "metadata": {}
        }
      ]
    },
    {
      "cell_type": "code",
      "source": [
        "model.summary()\n",
        "#sliced_model = tf.keras.Model(model.inputs, model.layers[-2].output)\n",
        "# Freeze the base model\n",
        "model.trainable = False\n",
        "\n",
        "class TemperatureScaledModel(tf.keras.Model):\n",
        "    def __init__(self, base_model):\n",
        "        super(TemperatureScaledModel, self).__init__()\n",
        "        self.base_model = model\n",
        "        self.temperature = tf.Variable(initial_value=1.0, trainable=True, dtype=tf.float32)\n",
        "\n",
        "    def call(self, inputs):\n",
        "        logits = self.base_model(inputs)\n",
        "        print(logits)\n",
        "        return tf.nn.softmax(logits / self.temperature)\n",
        "\n",
        "# Wrap your model with temperature scaling\n",
        "scaled_model = TemperatureScaledModel(model)\n",
        "\n",
        "# Compile the model\n",
        "scaled_model.compile(optimizer=tf.keras.optimizers.Adam(),\n",
        "                     loss=tf.keras.losses.BinaryCrossentropy(),\n",
        "                     metrics=[tf.keras.metrics.BinaryAccuracy()])\n",
        "\n",
        "# Calibrate the temperature on the validation set\n",
        "scaled_model.fit(val_x, val_y, epochs=10)"
      ],
      "metadata": {
        "colab": {
          "base_uri": "https://localhost:8080/"
        },
        "id": "FfDCl75P2FMb",
        "outputId": "ba5077ba-3988-4afe-8499-f2327cf9cb4e"
      },
      "execution_count": 26,
      "outputs": [
        {
          "output_type": "stream",
          "name": "stdout",
          "text": [
            "Model: \"model_5\"\n",
            "_________________________________________________________________\n",
            " Layer (type)                Output Shape              Param #   \n",
            "=================================================================\n",
            " input_4 (InputLayer)        [(None, 32, 32, 3)]       0         \n",
            "                                                                 \n",
            " efficientnetb0 (Functional  (None, 1, 1, 1280)        4049571   \n",
            " )                                                               \n",
            "                                                                 \n",
            " global_average_pooling2d_1  (None, 1280)              0         \n",
            "  (GlobalAveragePooling2D)                                       \n",
            "                                                                 \n",
            " dense_3 (Dense)             (None, 1024)              1311744   \n",
            "                                                                 \n",
            " dense_4 (Dense)             (None, 512)               524800    \n",
            "                                                                 \n",
            " dense_5 (Dense)             (None, 1)                 513       \n",
            "                                                                 \n",
            "=================================================================\n",
            "Total params: 5886628 (22.46 MB)\n",
            "Trainable params: 5844605 (22.30 MB)\n",
            "Non-trainable params: 42023 (164.16 KB)\n",
            "_________________________________________________________________\n",
            "Epoch 1/10\n",
            "Tensor(\"temperature_scaled_model_3/model_6/dense_4/Relu:0\", shape=(None, 512), dtype=float32)\n",
            "Tensor(\"temperature_scaled_model_3/model_6/dense_4/Relu:0\", shape=(None, 512), dtype=float32)\n",
            "17/17 [==============================] - 8s 56ms/step - loss: 4.7148 - binary_accuracy: 0.2576\n",
            "Epoch 2/10\n",
            "17/17 [==============================] - 1s 68ms/step - loss: 4.7116 - binary_accuracy: 0.2576\n",
            "Epoch 3/10\n",
            "17/17 [==============================] - 1s 84ms/step - loss: 4.7087 - binary_accuracy: 0.2576\n",
            "Epoch 4/10\n",
            "17/17 [==============================] - 1s 86ms/step - loss: 4.7059 - binary_accuracy: 0.2576\n",
            "Epoch 5/10\n",
            "17/17 [==============================] - 1s 73ms/step - loss: 4.7034 - binary_accuracy: 0.2576\n",
            "Epoch 6/10\n",
            "17/17 [==============================] - 1s 56ms/step - loss: 4.7011 - binary_accuracy: 0.2576\n",
            "Epoch 7/10\n",
            "17/17 [==============================] - 1s 55ms/step - loss: 4.6989 - binary_accuracy: 0.2576\n",
            "Epoch 8/10\n",
            "17/17 [==============================] - 1s 55ms/step - loss: 4.6969 - binary_accuracy: 0.2576\n",
            "Epoch 9/10\n",
            "17/17 [==============================] - 1s 55ms/step - loss: 4.6950 - binary_accuracy: 0.2576\n",
            "Epoch 10/10\n",
            "17/17 [==============================] - 1s 55ms/step - loss: 4.6933 - binary_accuracy: 0.2576\n"
          ]
        },
        {
          "output_type": "execute_result",
          "data": {
            "text/plain": [
              "<keras.src.callbacks.History at 0x7996c078d1b0>"
            ]
          },
          "metadata": {},
          "execution_count": 26
        }
      ]
    },
    {
      "cell_type": "code",
      "source": [
        "predictions_temp = scaled_model.predict(test_x)\n",
        "print(test_y[0:5].flatten())\n",
        "print(predictions_temp[0:5].flatten())\n",
        "\n",
        "\n",
        "# Create a DataFrame with the original labels and the predicted probabilities\n",
        "df = pd.DataFrame({\n",
        "    'label': test_y.flatten(),\n",
        "    'prediction': predictions_temp.flatten()\n",
        "})\n",
        "\n",
        "# Specify the path to your Google Drive and the filename\n",
        "path = \"/content/drive/MyDrive/predictions_temp.csv\"\n",
        "\n",
        "# Save the DataFrame to a CSV file in Google Drive\n",
        "df.to_csv(path, index=False)"
      ],
      "metadata": {
        "colab": {
          "base_uri": "https://localhost:8080/",
          "height": 443
        },
        "id": "vNMF2Eov2hzM",
        "outputId": "5e92a1cd-b921-45e4-aa23-5b06746e2eeb"
      },
      "execution_count": 27,
      "outputs": [
        {
          "output_type": "stream",
          "name": "stdout",
          "text": [
            "Tensor(\"temperature_scaled_model_3/model_6/dense_4/Relu:0\", shape=(None, 512), dtype=float32)\n",
            "20/20 [==============================] - 3s 56ms/step\n",
            "[1 0 1 0 1]\n",
            "[0.00144628 0.00144628 0.00144628 ... 0.00275805 0.00142903 0.00142903]\n"
          ]
        },
        {
          "output_type": "error",
          "ename": "ValueError",
          "evalue": "All arrays must be of the same length",
          "traceback": [
            "\u001b[0;31m---------------------------------------------------------------------------\u001b[0m",
            "\u001b[0;31mValueError\u001b[0m                                Traceback (most recent call last)",
            "\u001b[0;32m<ipython-input-27-38c39ad773d2>\u001b[0m in \u001b[0;36m<cell line: 7>\u001b[0;34m()\u001b[0m\n\u001b[1;32m      5\u001b[0m \u001b[0;34m\u001b[0m\u001b[0m\n\u001b[1;32m      6\u001b[0m \u001b[0;31m# Create a DataFrame with the original labels and the predicted probabilities\u001b[0m\u001b[0;34m\u001b[0m\u001b[0;34m\u001b[0m\u001b[0m\n\u001b[0;32m----> 7\u001b[0;31m df = pd.DataFrame({\n\u001b[0m\u001b[1;32m      8\u001b[0m     \u001b[0;34m'label'\u001b[0m\u001b[0;34m:\u001b[0m \u001b[0mtest_y\u001b[0m\u001b[0;34m.\u001b[0m\u001b[0mflatten\u001b[0m\u001b[0;34m(\u001b[0m\u001b[0;34m)\u001b[0m\u001b[0;34m,\u001b[0m\u001b[0;34m\u001b[0m\u001b[0;34m\u001b[0m\u001b[0m\n\u001b[1;32m      9\u001b[0m     \u001b[0;34m'prediction'\u001b[0m\u001b[0;34m:\u001b[0m \u001b[0mpredictions_temp\u001b[0m\u001b[0;34m.\u001b[0m\u001b[0mflatten\u001b[0m\u001b[0;34m(\u001b[0m\u001b[0;34m)\u001b[0m\u001b[0;34m\u001b[0m\u001b[0;34m\u001b[0m\u001b[0m\n",
            "\u001b[0;32m/usr/local/lib/python3.10/dist-packages/pandas/core/frame.py\u001b[0m in \u001b[0;36m__init__\u001b[0;34m(self, data, index, columns, dtype, copy)\u001b[0m\n\u001b[1;32m    662\u001b[0m         \u001b[0;32melif\u001b[0m \u001b[0misinstance\u001b[0m\u001b[0;34m(\u001b[0m\u001b[0mdata\u001b[0m\u001b[0;34m,\u001b[0m \u001b[0mdict\u001b[0m\u001b[0;34m)\u001b[0m\u001b[0;34m:\u001b[0m\u001b[0;34m\u001b[0m\u001b[0;34m\u001b[0m\u001b[0m\n\u001b[1;32m    663\u001b[0m             \u001b[0;31m# GH#38939 de facto copy defaults to False only in non-dict cases\u001b[0m\u001b[0;34m\u001b[0m\u001b[0;34m\u001b[0m\u001b[0m\n\u001b[0;32m--> 664\u001b[0;31m             \u001b[0mmgr\u001b[0m \u001b[0;34m=\u001b[0m \u001b[0mdict_to_mgr\u001b[0m\u001b[0;34m(\u001b[0m\u001b[0mdata\u001b[0m\u001b[0;34m,\u001b[0m \u001b[0mindex\u001b[0m\u001b[0;34m,\u001b[0m \u001b[0mcolumns\u001b[0m\u001b[0;34m,\u001b[0m \u001b[0mdtype\u001b[0m\u001b[0;34m=\u001b[0m\u001b[0mdtype\u001b[0m\u001b[0;34m,\u001b[0m \u001b[0mcopy\u001b[0m\u001b[0;34m=\u001b[0m\u001b[0mcopy\u001b[0m\u001b[0;34m,\u001b[0m \u001b[0mtyp\u001b[0m\u001b[0;34m=\u001b[0m\u001b[0mmanager\u001b[0m\u001b[0;34m)\u001b[0m\u001b[0;34m\u001b[0m\u001b[0;34m\u001b[0m\u001b[0m\n\u001b[0m\u001b[1;32m    665\u001b[0m         \u001b[0;32melif\u001b[0m \u001b[0misinstance\u001b[0m\u001b[0;34m(\u001b[0m\u001b[0mdata\u001b[0m\u001b[0;34m,\u001b[0m \u001b[0mma\u001b[0m\u001b[0;34m.\u001b[0m\u001b[0mMaskedArray\u001b[0m\u001b[0;34m)\u001b[0m\u001b[0;34m:\u001b[0m\u001b[0;34m\u001b[0m\u001b[0;34m\u001b[0m\u001b[0m\n\u001b[1;32m    666\u001b[0m             \u001b[0;32mimport\u001b[0m \u001b[0mnumpy\u001b[0m\u001b[0;34m.\u001b[0m\u001b[0mma\u001b[0m\u001b[0;34m.\u001b[0m\u001b[0mmrecords\u001b[0m \u001b[0;32mas\u001b[0m \u001b[0mmrecords\u001b[0m\u001b[0;34m\u001b[0m\u001b[0;34m\u001b[0m\u001b[0m\n",
            "\u001b[0;32m/usr/local/lib/python3.10/dist-packages/pandas/core/internals/construction.py\u001b[0m in \u001b[0;36mdict_to_mgr\u001b[0;34m(data, index, columns, dtype, typ, copy)\u001b[0m\n\u001b[1;32m    491\u001b[0m             \u001b[0marrays\u001b[0m \u001b[0;34m=\u001b[0m \u001b[0;34m[\u001b[0m\u001b[0mx\u001b[0m\u001b[0;34m.\u001b[0m\u001b[0mcopy\u001b[0m\u001b[0;34m(\u001b[0m\u001b[0;34m)\u001b[0m \u001b[0;32mif\u001b[0m \u001b[0mhasattr\u001b[0m\u001b[0;34m(\u001b[0m\u001b[0mx\u001b[0m\u001b[0;34m,\u001b[0m \u001b[0;34m\"dtype\"\u001b[0m\u001b[0;34m)\u001b[0m \u001b[0;32melse\u001b[0m \u001b[0mx\u001b[0m \u001b[0;32mfor\u001b[0m \u001b[0mx\u001b[0m \u001b[0;32min\u001b[0m \u001b[0marrays\u001b[0m\u001b[0;34m]\u001b[0m\u001b[0;34m\u001b[0m\u001b[0;34m\u001b[0m\u001b[0m\n\u001b[1;32m    492\u001b[0m \u001b[0;34m\u001b[0m\u001b[0m\n\u001b[0;32m--> 493\u001b[0;31m     \u001b[0;32mreturn\u001b[0m \u001b[0marrays_to_mgr\u001b[0m\u001b[0;34m(\u001b[0m\u001b[0marrays\u001b[0m\u001b[0;34m,\u001b[0m \u001b[0mcolumns\u001b[0m\u001b[0;34m,\u001b[0m \u001b[0mindex\u001b[0m\u001b[0;34m,\u001b[0m \u001b[0mdtype\u001b[0m\u001b[0;34m=\u001b[0m\u001b[0mdtype\u001b[0m\u001b[0;34m,\u001b[0m \u001b[0mtyp\u001b[0m\u001b[0;34m=\u001b[0m\u001b[0mtyp\u001b[0m\u001b[0;34m,\u001b[0m \u001b[0mconsolidate\u001b[0m\u001b[0;34m=\u001b[0m\u001b[0mcopy\u001b[0m\u001b[0;34m)\u001b[0m\u001b[0;34m\u001b[0m\u001b[0;34m\u001b[0m\u001b[0m\n\u001b[0m\u001b[1;32m    494\u001b[0m \u001b[0;34m\u001b[0m\u001b[0m\n\u001b[1;32m    495\u001b[0m \u001b[0;34m\u001b[0m\u001b[0m\n",
            "\u001b[0;32m/usr/local/lib/python3.10/dist-packages/pandas/core/internals/construction.py\u001b[0m in \u001b[0;36marrays_to_mgr\u001b[0;34m(arrays, columns, index, dtype, verify_integrity, typ, consolidate)\u001b[0m\n\u001b[1;32m    116\u001b[0m         \u001b[0;31m# figure out the index, if necessary\u001b[0m\u001b[0;34m\u001b[0m\u001b[0;34m\u001b[0m\u001b[0m\n\u001b[1;32m    117\u001b[0m         \u001b[0;32mif\u001b[0m \u001b[0mindex\u001b[0m \u001b[0;32mis\u001b[0m \u001b[0;32mNone\u001b[0m\u001b[0;34m:\u001b[0m\u001b[0;34m\u001b[0m\u001b[0;34m\u001b[0m\u001b[0m\n\u001b[0;32m--> 118\u001b[0;31m             \u001b[0mindex\u001b[0m \u001b[0;34m=\u001b[0m \u001b[0m_extract_index\u001b[0m\u001b[0;34m(\u001b[0m\u001b[0marrays\u001b[0m\u001b[0;34m)\u001b[0m\u001b[0;34m\u001b[0m\u001b[0;34m\u001b[0m\u001b[0m\n\u001b[0m\u001b[1;32m    119\u001b[0m         \u001b[0;32melse\u001b[0m\u001b[0;34m:\u001b[0m\u001b[0;34m\u001b[0m\u001b[0;34m\u001b[0m\u001b[0m\n\u001b[1;32m    120\u001b[0m             \u001b[0mindex\u001b[0m \u001b[0;34m=\u001b[0m \u001b[0mensure_index\u001b[0m\u001b[0;34m(\u001b[0m\u001b[0mindex\u001b[0m\u001b[0;34m)\u001b[0m\u001b[0;34m\u001b[0m\u001b[0;34m\u001b[0m\u001b[0m\n",
            "\u001b[0;32m/usr/local/lib/python3.10/dist-packages/pandas/core/internals/construction.py\u001b[0m in \u001b[0;36m_extract_index\u001b[0;34m(data)\u001b[0m\n\u001b[1;32m    664\u001b[0m             \u001b[0mlengths\u001b[0m \u001b[0;34m=\u001b[0m \u001b[0mlist\u001b[0m\u001b[0;34m(\u001b[0m\u001b[0mset\u001b[0m\u001b[0;34m(\u001b[0m\u001b[0mraw_lengths\u001b[0m\u001b[0;34m)\u001b[0m\u001b[0;34m)\u001b[0m\u001b[0;34m\u001b[0m\u001b[0;34m\u001b[0m\u001b[0m\n\u001b[1;32m    665\u001b[0m             \u001b[0;32mif\u001b[0m \u001b[0mlen\u001b[0m\u001b[0;34m(\u001b[0m\u001b[0mlengths\u001b[0m\u001b[0;34m)\u001b[0m \u001b[0;34m>\u001b[0m \u001b[0;36m1\u001b[0m\u001b[0;34m:\u001b[0m\u001b[0;34m\u001b[0m\u001b[0;34m\u001b[0m\u001b[0m\n\u001b[0;32m--> 666\u001b[0;31m                 \u001b[0;32mraise\u001b[0m \u001b[0mValueError\u001b[0m\u001b[0;34m(\u001b[0m\u001b[0;34m\"All arrays must be of the same length\"\u001b[0m\u001b[0;34m)\u001b[0m\u001b[0;34m\u001b[0m\u001b[0;34m\u001b[0m\u001b[0m\n\u001b[0m\u001b[1;32m    667\u001b[0m \u001b[0;34m\u001b[0m\u001b[0m\n\u001b[1;32m    668\u001b[0m             \u001b[0;32mif\u001b[0m \u001b[0mhave_dicts\u001b[0m\u001b[0;34m:\u001b[0m\u001b[0;34m\u001b[0m\u001b[0;34m\u001b[0m\u001b[0m\n",
            "\u001b[0;31mValueError\u001b[0m: All arrays must be of the same length"
          ]
        }
      ]
    },
    {
      "cell_type": "code",
      "source": [
        "from sklearn.calibration import calibration_curve\n",
        "\n",
        "prob_true_2, prob_pred_2 = calibration_curve(test_y.flatten(), predictions_temp.flatten(), n_bins=10)\n",
        "plt.plot(prob_pred_2, prob_true_2, marker='.', label=\"scaled\")\n",
        "plt.plot([0, 1], [0, 1], linestyle='--', label=\"ideal\")\n",
        "plt.xlabel('Predicted Probability')\n",
        "plt.ylabel('True Probability')\n",
        "plt.title('Reliability Diagram with no temperature scaling')\n",
        "plt.legend()\n",
        "plt.show()"
      ],
      "metadata": {
        "id": "-AHevy-u3sjV"
      },
      "execution_count": null,
      "outputs": []
    }
  ],
  "metadata": {
    "colab": {
      "provenance": [],
      "include_colab_link": true
    },
    "kernelspec": {
      "display_name": "Python 3",
      "name": "python3"
    }
  },
  "nbformat": 4,
  "nbformat_minor": 0
}